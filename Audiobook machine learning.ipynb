{
 "cells": [
  {
   "cell_type": "markdown",
   "id": "c4794b1d",
   "metadata": {},
   "source": [
    "# Practical example. Audiobooks"
   ]
  },
  {
   "cell_type": "markdown",
   "id": "45b9664d",
   "metadata": {},
   "source": [
    "## Problem\n",
    "\n",
    "You are given data from an Audiobook app. Logically, it relates only to the audio versions of books. Each customer in the database has made a purchase at least once, that's why he/she is in the database. We want to create a machine learning algorithm based on our available data that can predict if a customer will buy again from the Audiobook company.\n",
    "\n",
    "The main idea is that if a customer has a low probability of coming back, there is no reason to spend any money on advertizing to him/her. If we can focus our efforts ONLY on customers that are likely to convert again, we can make great savings. Moreover, this model can identify the most important metrics for a customer to come back again. Identifying new customers creates value and growth opportunities.\n",
    "\n",
    "You have a .csv summarizing the data. There are several variables: Customer ID, Book length in mins_avg (average of all purchases), Book length in minutes_sum (sum of all purchases), Price Paid_avg (average of all purchases), Price paid_sum (sum of all purchases), Review (a Boolean variable), Review (out of 10), Total minutes listened, Completion (from 0 to 1), Support requests (number), and Last visited minus purchase date (in days).\n",
    "\n",
    "So these are the inputs (excluding customer ID, as it is completely arbitrary. It's more like a name, than a number).\n",
    "\n",
    "The targets are a Boolean variable (so 0, or 1). We are taking a period of 2 years in our inputs, and the next 6 months as targets. So, in fact, we are predicting if: based on the last 2 years of activity and engagement, a customer will convert in the next 6 months. 6 months sounds like a reasonable time. If they don't convert after 6 months, chances are they've gone to a competitor or didn't like the Audiobook way of digesting information. \n",
    "\n",
    "The task is simple: create a machine learning algorithm, which is able to predict if a customer will buy again. \n",
    "\n",
    "This is a classification problem with two classes: won't buy and will buy, represented by 0s and 1s. \n",
    "\n",
    "Good luck!"
   ]
  },
  {
   "cell_type": "code",
   "execution_count": 1,
   "id": "1a16bf28",
   "metadata": {},
   "outputs": [],
   "source": [
    "import numpy as np\n",
    "import tensorflow as tf"
   ]
  },
  {
   "cell_type": "code",
   "execution_count": 17,
   "id": "4d2ba0ab",
   "metadata": {},
   "outputs": [],
   "source": [
    "npz = np.load('Audiobook_train_data.npz')\n",
    "train_inputs , train_target = npz['inputs'].astype(float),npz['targets'].astype(int)\n",
    "npz = np.load('Audiobook_validation_data.npz')\n",
    "validation_inputs , validation_target = npz['inputs'].astype(float),npz['targets'].astype(int)\n",
    "npz = np.load('Audiobook_test_data.npz')\n",
    "test_inputs , test_target = npz['inputs'].astype(float),npz['targets'].astype(int)"
   ]
  },
  {
   "cell_type": "code",
   "execution_count": 23,
   "id": "2213a009",
   "metadata": {},
   "outputs": [
    {
     "name": "stdout",
     "output_type": "stream",
     "text": [
      "Epoch 1/100\n",
      "36/36 - 1s - loss: 0.5213 - accuracy: 0.7452 - val_loss: 0.4190 - val_accuracy: 0.8031 - 664ms/epoch - 18ms/step\n",
      "Epoch 2/100\n",
      "36/36 - 0s - loss: 0.4066 - accuracy: 0.7921 - val_loss: 0.3746 - val_accuracy: 0.8188 - 126ms/epoch - 3ms/step\n",
      "Epoch 3/100\n",
      "36/36 - 0s - loss: 0.3754 - accuracy: 0.8036 - val_loss: 0.3594 - val_accuracy: 0.8098 - 122ms/epoch - 3ms/step\n",
      "Epoch 4/100\n",
      "36/36 - 0s - loss: 0.3599 - accuracy: 0.8100 - val_loss: 0.3480 - val_accuracy: 0.8300 - 123ms/epoch - 3ms/step\n",
      "Epoch 5/100\n",
      "36/36 - 0s - loss: 0.3538 - accuracy: 0.8053 - val_loss: 0.3435 - val_accuracy: 0.8076 - 121ms/epoch - 3ms/step\n",
      "Epoch 6/100\n",
      "36/36 - 0s - loss: 0.3474 - accuracy: 0.8164 - val_loss: 0.3336 - val_accuracy: 0.8233 - 127ms/epoch - 4ms/step\n",
      "Epoch 7/100\n",
      "36/36 - 0s - loss: 0.3417 - accuracy: 0.8161 - val_loss: 0.3358 - val_accuracy: 0.8143 - 122ms/epoch - 3ms/step\n",
      "Epoch 8/100\n",
      "36/36 - 0s - loss: 0.3387 - accuracy: 0.8134 - val_loss: 0.3323 - val_accuracy: 0.8233 - 124ms/epoch - 3ms/step\n",
      "Epoch 9/100\n",
      "36/36 - 0s - loss: 0.3368 - accuracy: 0.8175 - val_loss: 0.3349 - val_accuracy: 0.8054 - 129ms/epoch - 4ms/step\n",
      "Epoch 10/100\n",
      "36/36 - 0s - loss: 0.3367 - accuracy: 0.8114 - val_loss: 0.3434 - val_accuracy: 0.7919 - 125ms/epoch - 3ms/step\n"
     ]
    },
    {
     "data": {
      "text/plain": [
       "<keras.callbacks.History at 0x251a5eeb610>"
      ]
     },
     "execution_count": 23,
     "metadata": {},
     "output_type": "execute_result"
    }
   ],
   "source": [
    "input_size = 10\n",
    "output_size = 2\n",
    "hiddenl_layer_size = 100\n",
    "\n",
    "model = tf.keras.Sequential([\n",
    "                        tf.keras.layers.Dense(hiddenl_layer_size,activation='relu'),\n",
    "                        tf.keras.layers.Dense(hiddenl_layer_size,activation='relu'),\n",
    "                        tf.keras.layers.Dense(output_size,activation='softmax')\n",
    "])\n",
    "\n",
    "model.compile(optimizer='adam' , loss= 'sparse_categorical_crossentropy',metrics=['accuracy'])\n",
    "early_stoping = tf.keras.callbacks.EarlyStopping(patience=2)\n",
    "model.fit(train_inputs,\n",
    "          train_target,\n",
    "          batch_size=100,\n",
    "          epochs=100,\n",
    "          callbacks=[early_stoping],\n",
    "          validation_data=(validation_inputs,validation_target),\n",
    "          verbose=2)"
   ]
  },
  {
   "cell_type": "code",
   "execution_count": 24,
   "id": "2525fca5",
   "metadata": {},
   "outputs": [
    {
     "name": "stdout",
     "output_type": "stream",
     "text": [
      "14/14 [==============================] - 0s 3ms/step - loss: 0.3438 - accuracy: 0.7969\n",
      "Test Loss : 0.34. and Test accuracy : 79.69%.\n"
     ]
    }
   ],
   "source": [
    "test_loss , test_accuracy = model.evaluate(test_inputs,test_target)\n",
    "print('Test Loss : {0:.2f}. and Test accuracy : {1:.2f}%.'.format(test_loss , test_accuracy*100.))"
   ]
  },
  {
   "cell_type": "code",
   "execution_count": null,
   "id": "da3bffc4",
   "metadata": {},
   "outputs": [],
   "source": []
  }
 ],
 "metadata": {
  "kernelspec": {
   "display_name": "Python 3 (ipykernel)",
   "language": "python",
   "name": "python3"
  },
  "language_info": {
   "codemirror_mode": {
    "name": "ipython",
    "version": 3
   },
   "file_extension": ".py",
   "mimetype": "text/x-python",
   "name": "python",
   "nbconvert_exporter": "python",
   "pygments_lexer": "ipython3",
   "version": "3.10.9"
  }
 },
 "nbformat": 4,
 "nbformat_minor": 5
}
